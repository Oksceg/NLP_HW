{
  "nbformat": 4,
  "nbformat_minor": 0,
  "metadata": {
    "colab": {
      "provenance": []
    },
    "kernelspec": {
      "name": "python3",
      "display_name": "Python 3"
    },
    "language_info": {
      "name": "python"
    }
  },
  "cells": [
    {
      "cell_type": "markdown",
      "source": [
        "## Получение данных"
      ],
      "metadata": {
        "id": "CgsxCfQaBDwT"
      }
    },
    {
      "cell_type": "code",
      "source": [
        "import requests, time\n",
        "from bs4 import BeautifulSoup"
      ],
      "metadata": {
        "id": "xUQoIVBHBMLM"
      },
      "execution_count": 50,
      "outputs": []
    },
    {
      "cell_type": "code",
      "execution_count": 51,
      "metadata": {
        "id": "eXxLC69uAPMs"
      },
      "outputs": [],
      "source": [
        "def url_processing(url): #обработка запроса\n",
        "    session = requests.session()\n",
        "    time.sleep(1)\n",
        "    req = session.get(url)\n",
        "    time.sleep(2)\n",
        "    page = req.text\n",
        "    soup = BeautifulSoup(page, 'html.parser')\n",
        "    return soup"
      ]
    },
    {
      "cell_type": "code",
      "source": [
        "def get_links(url):\n",
        "    page = url_processing(url)\n",
        "    links = []\n",
        "    for link in page.find_all('a'):\n",
        "        actualink = link.get('href')\n",
        "        if \"tv/news\" in actualink:  \n",
        "            links.append(actualink)\n",
        "    return list(set(links))"
      ],
      "metadata": {
        "id": "rTCuzNkQFZ5L"
      },
      "execution_count": 52,
      "outputs": []
    },
    {
      "cell_type": "markdown",
      "source": [
        "### Собираем данные"
      ],
      "metadata": {
        "id": "ryD96UdDgUsL"
      }
    },
    {
      "cell_type": "markdown",
      "source": [
        "Для данных возьмем новостной источник [мир24](https://mir24.tv/news/list/all). К новостным статьям прикрепелены теги, которые в целом можно считать за ключевые слова. Чтобы получить более 3000 токенов достаточно было собрать около 15 статей:"
      ],
      "metadata": {
        "id": "B3LaUOohF1L8"
      }
    },
    {
      "cell_type": "code",
      "source": [
        "news_articles = get_links(\"https://mir24.tv/news/list/all\")"
      ],
      "metadata": {
        "id": "z2xBR02HFsub"
      },
      "execution_count": 54,
      "outputs": []
    },
    {
      "cell_type": "code",
      "source": [
        "all_texts = [] #статьи\n",
        "all_tags = [] #теги к статьям\n",
        "for article in news_articles[:15]:\n",
        "    article_data = url_processing(article)\n",
        "    article_content = article_data.find('article', {'class': 'text-format wfb'})\n",
        "    full = article_content.find_all(\"p\")\n",
        "    text_data = article_content.find_all(\"p\")[0].text\n",
        "    tags = article_content.find_all(\"p\")[-1].text.split(\"\\n\")\n",
        "    tags = [tag.lower() for tag in tags[2:] if tag != \"\"]\n",
        "\n",
        "    all_texts.append(text_data)\n",
        "    all_tags.append(\"_\".join(tags))"
      ],
      "metadata": {
        "id": "8maUdJOcCKN8"
      },
      "execution_count": 55,
      "outputs": []
    },
    {
      "cell_type": "code",
      "source": [
        "import pandas as pd"
      ],
      "metadata": {
        "id": "yndAfyeshQGY"
      },
      "execution_count": 61,
      "outputs": []
    },
    {
      "cell_type": "code",
      "source": [
        "df = pd.DataFrame({\"текст\": all_texts, \"изначальные теги\": all_tags})"
      ],
      "metadata": {
        "id": "RBPRLBi0hS_d"
      },
      "execution_count": 57,
      "outputs": []
    },
    {
      "cell_type": "markdown",
      "source": [
        "Запишем в файл, чтобы потом работать уже с готовыми данными"
      ],
      "metadata": {
        "id": "mbF5oaJeGq_B"
      }
    },
    {
      "cell_type": "code",
      "source": [
        "writer = pd.ExcelWriter('output.xlsx')\n",
        "df.to_excel(writer)\n",
        "writer.save()"
      ],
      "metadata": {
        "id": "a2qQrbSA08JF"
      },
      "execution_count": null,
      "outputs": []
    },
    {
      "cell_type": "markdown",
      "source": [
        "## Работа с данными"
      ],
      "metadata": {
        "id": "NCK0iUDiGyUO"
      }
    },
    {
      "cell_type": "markdown",
      "source": [
        "в раннее сохраненном документе xlsx я добавила колонку со словами, которые, на мой взгляд, можно было бы посчитать ключевыми:"
      ],
      "metadata": {
        "id": "VlENqZQAG_jP"
      }
    },
    {
      "cell_type": "code",
      "source": [
        "import pandas as pd\n",
        "excel_data = pd.read_excel('output.xlsx')\n",
        "df = pd.DataFrame(excel_data, columns=['текст', 'изначальные теги', 'мои слова'])"
      ],
      "metadata": {
        "id": "PIp9meBR9EhZ"
      },
      "execution_count": 62,
      "outputs": []
    },
    {
      "cell_type": "code",
      "source": [
        "len([word for text in df[\"текст\"] for word in text.split()])"
      ],
      "metadata": {
        "colab": {
          "base_uri": "https://localhost:8080/"
        },
        "id": "P-k6EeBYMZfd",
        "outputId": "cd8ae05e-ffef-47b2-aa12-d7a5eabd5c63"
      },
      "execution_count": 63,
      "outputs": [
        {
          "output_type": "execute_result",
          "data": {
            "text/plain": [
              "3072"
            ]
          },
          "metadata": {},
          "execution_count": 63
        }
      ]
    },
    {
      "cell_type": "code",
      "source": [
        "df"
      ],
      "metadata": {
        "colab": {
          "base_uri": "https://localhost:8080/",
          "height": 520
        },
        "id": "hm05wPNIyGDT",
        "outputId": "3255dc9b-1ebb-4d3d-d52d-fc9ec35fb50b"
      },
      "execution_count": 64,
      "outputs": [
        {
          "output_type": "execute_result",
          "data": {
            "text/plain": [
              "                                                текст  \\\n",
              "0   В Москве сегодня настоящий «день жестянщика». ...   \n",
              "1   Совет Федерации в ходе заседания одобрил закон...   \n",
              "2   Международный фестиваль «Джаз Фест» начался в ...   \n",
              "3   В России будет активнее развиваться система ок...   \n",
              "4   Самым популярным паролем в 2022 году стало сло...   \n",
              "5   Американский президент Джо Байден оступился на...   \n",
              "6   Сегодня в России отмечают день рождения самбо....   \n",
              "7   Экологи объявили об открытии самой крупной из ...   \n",
              "8   В застоявшейся чайной заварке разрушаются все ...   \n",
              "9   Древняя инфекция может помочь людям излечить з...   \n",
              "10  Ученые впервые смогли сделать трехмерную запис...   \n",
              "11  Семеро на одного. В Томске стая собак набросил...   \n",
              "12  Станция «Внуково» Солнцевской линии Московског...   \n",
              "13  Американского актера Кевина Спейси снова вызыв...   \n",
              "14  Парламент Кыргызстана ратифицировал соглашение...   \n",
              "\n",
              "                         изначальные теги  \\\n",
              "0                            погода в снг   \n",
              "1   детское пособие_закон_совет федерации   \n",
              "2                      джазовый фестиваль   \n",
              "3                     программа_гепатит с   \n",
              "4                                  пароль   \n",
              "5                                  саммит   \n",
              "6                                   самбо   \n",
              "7                     океан_скат_экология   \n",
              "8                            здоровье_чай   \n",
              "9           трансплантация_печень_проказа   \n",
              "10               заражение_вирус_инфекция   \n",
              "11   нападение собак_инцидент_малыш_Томск   \n",
              "12            новая станция_метро_внуково   \n",
              "13                  харассмент_шоу-бизнес   \n",
              "14                    делимитация границы   \n",
              "\n",
              "                               мои слова  \n",
              "0             погода_снег_дождь_снегопад  \n",
              "1                     пособие_семья_дети  \n",
              "2               фестиваль_Ереван_Армения  \n",
              "3                              гепатит c  \n",
              "4                                 пароль  \n",
              "5   Джо Байден_президент_саммит_лестница  \n",
              "6                                  самбо  \n",
              "7                         скат_популяция  \n",
              "8                                    чай  \n",
              "9                        печаень_проказа  \n",
              "10                     эксперимент_вирус  \n",
              "11  нападение собак_инцидент_малыш_Томск  \n",
              "12                         внуково_метро  \n",
              "13                            Спейси_суд  \n",
              "14                               граница  "
            ],
            "text/html": [
              "\n",
              "  <div id=\"df-009a41b6-86c4-4f29-846c-2abf6f8f2d9f\">\n",
              "    <div class=\"colab-df-container\">\n",
              "      <div>\n",
              "<style scoped>\n",
              "    .dataframe tbody tr th:only-of-type {\n",
              "        vertical-align: middle;\n",
              "    }\n",
              "\n",
              "    .dataframe tbody tr th {\n",
              "        vertical-align: top;\n",
              "    }\n",
              "\n",
              "    .dataframe thead th {\n",
              "        text-align: right;\n",
              "    }\n",
              "</style>\n",
              "<table border=\"1\" class=\"dataframe\">\n",
              "  <thead>\n",
              "    <tr style=\"text-align: right;\">\n",
              "      <th></th>\n",
              "      <th>текст</th>\n",
              "      <th>изначальные теги</th>\n",
              "      <th>мои слова</th>\n",
              "    </tr>\n",
              "  </thead>\n",
              "  <tbody>\n",
              "    <tr>\n",
              "      <th>0</th>\n",
              "      <td>В Москве сегодня настоящий «день жестянщика». ...</td>\n",
              "      <td>погода в снг</td>\n",
              "      <td>погода_снег_дождь_снегопад</td>\n",
              "    </tr>\n",
              "    <tr>\n",
              "      <th>1</th>\n",
              "      <td>Совет Федерации в ходе заседания одобрил закон...</td>\n",
              "      <td>детское пособие_закон_совет федерации</td>\n",
              "      <td>пособие_семья_дети</td>\n",
              "    </tr>\n",
              "    <tr>\n",
              "      <th>2</th>\n",
              "      <td>Международный фестиваль «Джаз Фест» начался в ...</td>\n",
              "      <td>джазовый фестиваль</td>\n",
              "      <td>фестиваль_Ереван_Армения</td>\n",
              "    </tr>\n",
              "    <tr>\n",
              "      <th>3</th>\n",
              "      <td>В России будет активнее развиваться система ок...</td>\n",
              "      <td>программа_гепатит с</td>\n",
              "      <td>гепатит c</td>\n",
              "    </tr>\n",
              "    <tr>\n",
              "      <th>4</th>\n",
              "      <td>Самым популярным паролем в 2022 году стало сло...</td>\n",
              "      <td>пароль</td>\n",
              "      <td>пароль</td>\n",
              "    </tr>\n",
              "    <tr>\n",
              "      <th>5</th>\n",
              "      <td>Американский президент Джо Байден оступился на...</td>\n",
              "      <td>саммит</td>\n",
              "      <td>Джо Байден_президент_саммит_лестница</td>\n",
              "    </tr>\n",
              "    <tr>\n",
              "      <th>6</th>\n",
              "      <td>Сегодня в России отмечают день рождения самбо....</td>\n",
              "      <td>самбо</td>\n",
              "      <td>самбо</td>\n",
              "    </tr>\n",
              "    <tr>\n",
              "      <th>7</th>\n",
              "      <td>Экологи объявили об открытии самой крупной из ...</td>\n",
              "      <td>океан_скат_экология</td>\n",
              "      <td>скат_популяция</td>\n",
              "    </tr>\n",
              "    <tr>\n",
              "      <th>8</th>\n",
              "      <td>В застоявшейся чайной заварке разрушаются все ...</td>\n",
              "      <td>здоровье_чай</td>\n",
              "      <td>чай</td>\n",
              "    </tr>\n",
              "    <tr>\n",
              "      <th>9</th>\n",
              "      <td>Древняя инфекция может помочь людям излечить з...</td>\n",
              "      <td>трансплантация_печень_проказа</td>\n",
              "      <td>печаень_проказа</td>\n",
              "    </tr>\n",
              "    <tr>\n",
              "      <th>10</th>\n",
              "      <td>Ученые впервые смогли сделать трехмерную запис...</td>\n",
              "      <td>заражение_вирус_инфекция</td>\n",
              "      <td>эксперимент_вирус</td>\n",
              "    </tr>\n",
              "    <tr>\n",
              "      <th>11</th>\n",
              "      <td>Семеро на одного. В Томске стая собак набросил...</td>\n",
              "      <td>нападение собак_инцидент_малыш_Томск</td>\n",
              "      <td>нападение собак_инцидент_малыш_Томск</td>\n",
              "    </tr>\n",
              "    <tr>\n",
              "      <th>12</th>\n",
              "      <td>Станция «Внуково» Солнцевской линии Московског...</td>\n",
              "      <td>новая станция_метро_внуково</td>\n",
              "      <td>внуково_метро</td>\n",
              "    </tr>\n",
              "    <tr>\n",
              "      <th>13</th>\n",
              "      <td>Американского актера Кевина Спейси снова вызыв...</td>\n",
              "      <td>харассмент_шоу-бизнес</td>\n",
              "      <td>Спейси_суд</td>\n",
              "    </tr>\n",
              "    <tr>\n",
              "      <th>14</th>\n",
              "      <td>Парламент Кыргызстана ратифицировал соглашение...</td>\n",
              "      <td>делимитация границы</td>\n",
              "      <td>граница</td>\n",
              "    </tr>\n",
              "  </tbody>\n",
              "</table>\n",
              "</div>\n",
              "      <button class=\"colab-df-convert\" onclick=\"convertToInteractive('df-009a41b6-86c4-4f29-846c-2abf6f8f2d9f')\"\n",
              "              title=\"Convert this dataframe to an interactive table.\"\n",
              "              style=\"display:none;\">\n",
              "        \n",
              "  <svg xmlns=\"http://www.w3.org/2000/svg\" height=\"24px\"viewBox=\"0 0 24 24\"\n",
              "       width=\"24px\">\n",
              "    <path d=\"M0 0h24v24H0V0z\" fill=\"none\"/>\n",
              "    <path d=\"M18.56 5.44l.94 2.06.94-2.06 2.06-.94-2.06-.94-.94-2.06-.94 2.06-2.06.94zm-11 1L8.5 8.5l.94-2.06 2.06-.94-2.06-.94L8.5 2.5l-.94 2.06-2.06.94zm10 10l.94 2.06.94-2.06 2.06-.94-2.06-.94-.94-2.06-.94 2.06-2.06.94z\"/><path d=\"M17.41 7.96l-1.37-1.37c-.4-.4-.92-.59-1.43-.59-.52 0-1.04.2-1.43.59L10.3 9.45l-7.72 7.72c-.78.78-.78 2.05 0 2.83L4 21.41c.39.39.9.59 1.41.59.51 0 1.02-.2 1.41-.59l7.78-7.78 2.81-2.81c.8-.78.8-2.07 0-2.86zM5.41 20L4 18.59l7.72-7.72 1.47 1.35L5.41 20z\"/>\n",
              "  </svg>\n",
              "      </button>\n",
              "      \n",
              "  <style>\n",
              "    .colab-df-container {\n",
              "      display:flex;\n",
              "      flex-wrap:wrap;\n",
              "      gap: 12px;\n",
              "    }\n",
              "\n",
              "    .colab-df-convert {\n",
              "      background-color: #E8F0FE;\n",
              "      border: none;\n",
              "      border-radius: 50%;\n",
              "      cursor: pointer;\n",
              "      display: none;\n",
              "      fill: #1967D2;\n",
              "      height: 32px;\n",
              "      padding: 0 0 0 0;\n",
              "      width: 32px;\n",
              "    }\n",
              "\n",
              "    .colab-df-convert:hover {\n",
              "      background-color: #E2EBFA;\n",
              "      box-shadow: 0px 1px 2px rgba(60, 64, 67, 0.3), 0px 1px 3px 1px rgba(60, 64, 67, 0.15);\n",
              "      fill: #174EA6;\n",
              "    }\n",
              "\n",
              "    [theme=dark] .colab-df-convert {\n",
              "      background-color: #3B4455;\n",
              "      fill: #D2E3FC;\n",
              "    }\n",
              "\n",
              "    [theme=dark] .colab-df-convert:hover {\n",
              "      background-color: #434B5C;\n",
              "      box-shadow: 0px 1px 3px 1px rgba(0, 0, 0, 0.15);\n",
              "      filter: drop-shadow(0px 1px 2px rgba(0, 0, 0, 0.3));\n",
              "      fill: #FFFFFF;\n",
              "    }\n",
              "  </style>\n",
              "\n",
              "      <script>\n",
              "        const buttonEl =\n",
              "          document.querySelector('#df-009a41b6-86c4-4f29-846c-2abf6f8f2d9f button.colab-df-convert');\n",
              "        buttonEl.style.display =\n",
              "          google.colab.kernel.accessAllowed ? 'block' : 'none';\n",
              "\n",
              "        async function convertToInteractive(key) {\n",
              "          const element = document.querySelector('#df-009a41b6-86c4-4f29-846c-2abf6f8f2d9f');\n",
              "          const dataTable =\n",
              "            await google.colab.kernel.invokeFunction('convertToInteractive',\n",
              "                                                     [key], {});\n",
              "          if (!dataTable) return;\n",
              "\n",
              "          const docLinkHtml = 'Like what you see? Visit the ' +\n",
              "            '<a target=\"_blank\" href=https://colab.research.google.com/notebooks/data_table.ipynb>data table notebook</a>'\n",
              "            + ' to learn more about interactive tables.';\n",
              "          element.innerHTML = '';\n",
              "          dataTable['output_type'] = 'display_data';\n",
              "          await google.colab.output.renderOutput(dataTable, element);\n",
              "          const docLink = document.createElement('div');\n",
              "          docLink.innerHTML = docLinkHtml;\n",
              "          element.appendChild(docLink);\n",
              "        }\n",
              "      </script>\n",
              "    </div>\n",
              "  </div>\n",
              "  "
            ]
          },
          "metadata": {},
          "execution_count": 64
        }
      ]
    },
    {
      "cell_type": "markdown",
      "source": [
        "Для эталонных ключевых слов возьмем объединение изначальных тегов и самостоятельно выделенных ключевых слов:"
      ],
      "metadata": {
        "id": "J9OtrJ-AHgMi"
      }
    },
    {
      "cell_type": "code",
      "source": [
        "all_kwords = []\n",
        "for orig_tags, my_tags in zip(df[\"изначальные теги\"], df[\"мои слова\"]):\n",
        "    kwords = set(orig_tags.split(\"_\")).union(set(my_tags.split(\"_\")))\n",
        "    all_kwords.append(set(kwords))"
      ],
      "metadata": {
        "id": "67BV7a7-yymg"
      },
      "execution_count": 65,
      "outputs": []
    },
    {
      "cell_type": "code",
      "source": [
        "all_kwords"
      ],
      "metadata": {
        "colab": {
          "base_uri": "https://localhost:8080/"
        },
        "id": "gwttPqS22iJ4",
        "outputId": "d8d1ccfc-8f50-4484-e7a5-db1410b6f8ec"
      },
      "execution_count": 66,
      "outputs": [
        {
          "output_type": "execute_result",
          "data": {
            "text/plain": [
              "[{'дождь', 'погода', 'погода в снг', 'снег', 'снегопад'},\n",
              " {'дети', 'детское пособие', 'закон', 'пособие', 'семья', 'совет федерации'},\n",
              " {'Армения', 'Ереван', 'джазовый фестиваль', 'фестиваль'},\n",
              " {'гепатит c', 'гепатит с', 'программа'},\n",
              " {'пароль'},\n",
              " {'Джо Байден', 'лестница', 'президент', 'саммит'},\n",
              " {'самбо'},\n",
              " {'океан', 'популяция', 'скат', 'экология'},\n",
              " {'здоровье', 'чай'},\n",
              " {'печаень', 'печень', 'проказа', 'трансплантация'},\n",
              " {'вирус', 'заражение', 'инфекция', 'эксперимент'},\n",
              " {'Томск', 'инцидент', 'малыш', 'нападение собак'},\n",
              " {'внуково', 'метро', 'новая станция'},\n",
              " {'Спейси', 'суд', 'харассмент', 'шоу-бизнес'},\n",
              " {'граница', 'делимитация границы'}]"
            ]
          },
          "metadata": {},
          "execution_count": 66
        }
      ]
    },
    {
      "cell_type": "markdown",
      "source": [
        "## Методы извлечения ключевых слов"
      ],
      "metadata": {
        "id": "Ymsf1n3N3OGq"
      }
    },
    {
      "cell_type": "markdown",
      "source": [
        "### RAKE"
      ],
      "metadata": {
        "id": "5GzHbdZKITXr"
      }
    },
    {
      "cell_type": "code",
      "source": [
        "# !pip install python-rake"
      ],
      "metadata": {
        "id": "WDVvbz-B5HAW"
      },
      "execution_count": 68,
      "outputs": []
    },
    {
      "cell_type": "code",
      "source": [
        "import RAKE\n",
        "import nltk\n",
        "nltk.download('stopwords')\n",
        "from nltk.corpus import stopwords\n",
        "from string import punctuation\n",
        "stop = stopwords.words('russian')"
      ],
      "metadata": {
        "colab": {
          "base_uri": "https://localhost:8080/"
        },
        "id": "f24n8CwP3Syi",
        "outputId": "0d9af9fd-a82a-41d0-8916-f5bde93ae2b0"
      },
      "execution_count": 73,
      "outputs": [
        {
          "output_type": "stream",
          "name": "stderr",
          "text": [
            "[nltk_data] Downloading package stopwords to /root/nltk_data...\n",
            "[nltk_data]   Package stopwords is already up-to-date!\n"
          ]
        }
      ]
    },
    {
      "cell_type": "code",
      "source": [
        "# !pip install pymorphy2"
      ],
      "metadata": {
        "id": "oS8NAABNCtPO"
      },
      "execution_count": 69,
      "outputs": []
    },
    {
      "cell_type": "code",
      "source": [
        "from pymorphy2 import MorphAnalyzer\n",
        "from pymorphy2.tokenizers import simple_word_tokenize\n",
        "m = MorphAnalyzer()\n",
        "\n",
        "def get_lems(text):\n",
        "    lems = [m.parse(w)[0].normal_form for w in simple_word_tokenize(text) if w not in punctuation]\n",
        "    return \" \".join(lems)"
      ],
      "metadata": {
        "id": "tl83pLOvCpva"
      },
      "execution_count": 74,
      "outputs": []
    },
    {
      "cell_type": "code",
      "source": [
        "rake = RAKE.Rake(stop)"
      ],
      "metadata": {
        "id": "Mx35s7vP5brv"
      },
      "execution_count": 75,
      "outputs": []
    },
    {
      "cell_type": "code",
      "source": [
        "rake_data = []\n",
        "for text in df[\"текст\"]:\n",
        "    res = rake.run(get_lems(text), maxWords=2, minFrequency=2)\n",
        "    rake_data.append(res)\n",
        "rake_data"
      ],
      "metadata": {
        "colab": {
          "base_uri": "https://localhost:8080/"
        },
        "id": "0bldZW3x5ei4",
        "outputId": "fd7fdecb-a58d-4471-f046-b5919b09c0b7"
      },
      "execution_count": 111,
      "outputs": [
        {
          "output_type": "execute_result",
          "data": {
            "text/plain": [
              "[[],\n",
              " [('беременная', 1.0), ('семья', 1.0), ('ребёнок', 1.0)],\n",
              " [('армения', 1.0)],\n",
              " [('гепатит', 1.6)],\n",
              " [],\n",
              " [('лестница', 1.0), ('мероприятие', 1.0)],\n",
              " [('дзюдо', 1.0)],\n",
              " [],\n",
              " [],\n",
              " [],\n",
              " [],\n",
              " [],\n",
              " [],\n",
              " [],\n",
              " []]"
            ]
          },
          "metadata": {},
          "execution_count": 111
        }
      ]
    },
    {
      "cell_type": "code",
      "source": [
        "rake_res = []\n",
        "for l in rake_data:\n",
        "    new_l = [\"\"]\n",
        "    if len(l) != 0:\n",
        "        mtchs = [match[0] for match in l]\n",
        "        new_l = mtchs\n",
        "    rake_res.append(new_l)\n",
        "rake_res"
      ],
      "metadata": {
        "colab": {
          "base_uri": "https://localhost:8080/"
        },
        "id": "gNxraCg-nJmF",
        "outputId": "b24b5dc4-b86e-4e1b-d6e5-3bc276cdd20f"
      },
      "execution_count": 230,
      "outputs": [
        {
          "output_type": "execute_result",
          "data": {
            "text/plain": [
              "[[''],\n",
              " ['беременная', 'семья', 'ребёнок'],\n",
              " ['армения'],\n",
              " ['гепатит'],\n",
              " [''],\n",
              " ['лестница', 'мероприятие'],\n",
              " ['дзюдо'],\n",
              " [''],\n",
              " [''],\n",
              " [''],\n",
              " [''],\n",
              " [''],\n",
              " [''],\n",
              " [''],\n",
              " ['']]"
            ]
          },
          "metadata": {},
          "execution_count": 230
        }
      ]
    },
    {
      "cell_type": "markdown",
      "source": [
        "С одной стороны, не очень хорошо, что столько пропусков. С другой стороны, там, где ключевые слова выделились, модель сработала хорошо"
      ],
      "metadata": {
        "id": "T_MkKTsCOwWo"
      }
    },
    {
      "cell_type": "markdown",
      "source": [
        "### TextRank"
      ],
      "metadata": {
        "id": "vttCix4VCKGJ"
      }
    },
    {
      "cell_type": "code",
      "source": [
        "# !pip install summa"
      ],
      "metadata": {
        "id": "VEBKtJJuCNFU"
      },
      "execution_count": 81,
      "outputs": []
    },
    {
      "cell_type": "code",
      "source": [
        "from summa import keywords"
      ],
      "metadata": {
        "id": "VRe8cL876RYN"
      },
      "execution_count": 82,
      "outputs": []
    },
    {
      "cell_type": "code",
      "source": [
        "tr_data = []\n",
        "for text in df[\"текст\"]:\n",
        "    tr_data.append(keywords.keywords(get_lems(text), language='russian', additional_stopwords=stop, scores=True)[:5])\n",
        "tr_data"
      ],
      "metadata": {
        "id": "VPydqD-UCTFR",
        "colab": {
          "base_uri": "https://localhost:8080/"
        },
        "outputId": "c630ed3b-1db5-45c2-b1c8-7a715379c1d0"
      },
      "execution_count": 119,
      "outputs": [
        {
          "output_type": "execute_result",
          "data": {
            "text/plain": [
              "[[('район', 0.18693537722301795),\n",
              "  ('страна', 0.1504647532723218),\n",
              "  ('погода', 0.14329891913701576),\n",
              "  ('работать', 0.1246712962479853),\n",
              "  ('сегодня', 0.12319825651154094)],\n",
              " [('совет федерация', 0.7069687082546907),\n",
              "  ('человек говориться', 0.008995486569678442),\n",
              "  ('трудоспособный население отмечаться', 0.005464309197554165),\n",
              "  ('региональный прожиточный минимум', 0.005464309197553997),\n",
              "  ('выплачиваться нуждаться', 0.0036081761502664267)],\n",
              " [('джаз', 0.3536975054665852),\n",
              "  ('концерт', 0.17585684758030662),\n",
              "  ('фестиваль', 0.16960839916938333),\n",
              "  ('формат', 0.15913956638468585),\n",
              "  ('музыка', 0.14789003073231544)],\n",
              " [('необходимый', 0.16780901543738336),\n",
              "  ('необходимо', 0.16780901543738336),\n",
              "  ('гепатит', 0.14367714762608494),\n",
              "  ('салон', 0.1432478195888589),\n",
              "  ('программа', 0.14141987485645457)],\n",
              " [('комбинация', 0.25267717279718654),\n",
              "  ('популярный пароль', 0.2165560254152213),\n",
              "  ('слово password англ', 0.2109365148876811),\n",
              "  ('замыкать', 0.1708630377431273),\n",
              "  ('цифра', 0.156249070920473)],\n",
              " [('байден', 0.30917644923352783),\n",
              "  ('саммит', 0.2661589132810901),\n",
              "  ('обменяться', 0.18197606010885925),\n",
              "  ('автомобиль', 0.1819760601088592),\n",
              "  ('индонезия джоко', 0.1754814847614083)],\n",
              " [('самбо', 0.3293859614878308),\n",
              "  ('харлампиев', 0.2591972708052726),\n",
              "  ('харлампий', 0.2591972708052726),\n",
              "  ('борьба', 0.2004259702277273),\n",
              "  ('вид', 0.1916973773778614)],\n",
              " [('популяция скат', 0.23889627569909366),\n",
              "  ('эколог', 0.2028153946638225),\n",
              "  ('являться', 0.15478248061538627),\n",
              "  ('численность', 0.14928478781981241),\n",
              "  ('регион учёный', 0.14735037228446002)],\n",
              " [('чай', 0.27524757291057467),\n",
              "  ('диетолог', 0.2309640431811744),\n",
              "  ('чайный', 0.1999420176032157),\n",
              "  ('полезный', 0.19275747368189453),\n",
              "  ('трусков специалист', 0.18205231605089622)],\n",
              " [('заболевание печень', 0.22164968364610496),\n",
              "  ('орган', 0.18662040824715956),\n",
              "  ('клетка', 0.17679386051765753),\n",
              "  ('врач учёный', 0.14575957024977187),\n",
              "  ('мочь', 0.13856366603117237)],\n",
              " [('новый', 0.2948737211142858),\n",
              "  ('вирус', 0.2279380915026705),\n",
              "  ('d', 0.1495581814386061),\n",
              "  ('который', 0.14391890092266416),\n",
              "  ('позволять', 0.13996969481187965)],\n",
              " [('собака', 0.25113667180772714),\n",
              "  ('томск', 0.23815781125513194),\n",
              "  ('ребёнок это', 0.20219909876452385),\n",
              "  ('инцидент', 0.18835207949244243),\n",
              "  ('пёс', 0.18603487189939338)],\n",
              " [('год', 0.3006185941192097),\n",
              "  ('мэр', 0.28766717378951023),\n",
              "  ('станция', 0.28482691093676654),\n",
              "  ('метрополитен', 0.2591653738251774),\n",
              "  ('метро', 0.24118868549182473)],\n",
              " [('обвинение', 0.24059484099171416),\n",
              "  ('суд', 0.1790373183332641),\n",
              "  ('американский актёр кевин спейся', 0.17688695029129914),\n",
              "  ('пять год', 0.1413500323030218),\n",
              "  ('лондон', 0.12649606331675997)],\n",
              " [('узбекистан', 0.23787639511532613),\n",
              "  ('население', 0.18327924128343992),\n",
              "  ('земля', 0.1828387251647262),\n",
              "  ('граница', 0.17690826346312036),\n",
              "  ('страна', 0.1629479484692584)]]"
            ]
          },
          "metadata": {},
          "execution_count": 119
        }
      ]
    },
    {
      "cell_type": "code",
      "source": [
        "tr_res = []\n",
        "for l in tr_data:\n",
        "    new_l = []\n",
        "    for match in l:\n",
        "        new_l.append(match[0])\n",
        "    tr_res.append(new_l)"
      ],
      "metadata": {
        "id": "81rpZYhUDp_E"
      },
      "execution_count": 120,
      "outputs": []
    },
    {
      "cell_type": "code",
      "source": [
        "tr_res"
      ],
      "metadata": {
        "colab": {
          "base_uri": "https://localhost:8080/"
        },
        "id": "coxUiMvTp2tX",
        "outputId": "fea8dd03-4cf4-441f-a515-9597dad72c8f"
      },
      "execution_count": 121,
      "outputs": [
        {
          "output_type": "execute_result",
          "data": {
            "text/plain": [
              "[['район', 'страна', 'погода', 'работать', 'сегодня'],\n",
              " ['совет федерация',\n",
              "  'человек говориться',\n",
              "  'трудоспособный население отмечаться',\n",
              "  'региональный прожиточный минимум',\n",
              "  'выплачиваться нуждаться'],\n",
              " ['джаз', 'концерт', 'фестиваль', 'формат', 'музыка'],\n",
              " ['необходимый', 'необходимо', 'гепатит', 'салон', 'программа'],\n",
              " ['комбинация',\n",
              "  'популярный пароль',\n",
              "  'слово password англ',\n",
              "  'замыкать',\n",
              "  'цифра'],\n",
              " ['байден', 'саммит', 'обменяться', 'автомобиль', 'индонезия джоко'],\n",
              " ['самбо', 'харлампиев', 'харлампий', 'борьба', 'вид'],\n",
              " ['популяция скат', 'эколог', 'являться', 'численность', 'регион учёный'],\n",
              " ['чай', 'диетолог', 'чайный', 'полезный', 'трусков специалист'],\n",
              " ['заболевание печень', 'орган', 'клетка', 'врач учёный', 'мочь'],\n",
              " ['новый', 'вирус', 'd', 'который', 'позволять'],\n",
              " ['собака', 'томск', 'ребёнок это', 'инцидент', 'пёс'],\n",
              " ['год', 'мэр', 'станция', 'метрополитен', 'метро'],\n",
              " ['обвинение', 'суд', 'американский актёр кевин спейся', 'пять год', 'лондон'],\n",
              " ['узбекистан', 'население', 'земля', 'граница', 'страна']]"
            ]
          },
          "metadata": {},
          "execution_count": 121
        }
      ]
    },
    {
      "cell_type": "markdown",
      "source": [
        "### TF-IDF"
      ],
      "metadata": {
        "id": "tlcC8cb2QEIl"
      }
    },
    {
      "cell_type": "code",
      "source": [
        "from sklearn.feature_extraction.text import TfidfVectorizer"
      ],
      "metadata": {
        "id": "Gdne8cnMQ5-X"
      },
      "execution_count": 90,
      "outputs": []
    },
    {
      "cell_type": "code",
      "source": [
        "corpus = []\n",
        "vectorizer = TfidfVectorizer()\n",
        "for text in df[\"текст\"]:\n",
        "    corpus.append(\" \".join([w for w in get_lems(text).split() if w not in stop]))\n",
        "X = vectorizer.fit_transform(corpus)\n",
        "feature_names = vectorizer.get_feature_names()"
      ],
      "metadata": {
        "id": "uUSsPmJCDu-a",
        "colab": {
          "base_uri": "https://localhost:8080/"
        },
        "outputId": "11cc6228-9b36-4f14-838d-37a40c2a5c70"
      },
      "execution_count": 91,
      "outputs": [
        {
          "output_type": "stream",
          "name": "stderr",
          "text": [
            "/usr/local/lib/python3.7/dist-packages/sklearn/utils/deprecation.py:87: FutureWarning: Function get_feature_names is deprecated; get_feature_names is deprecated in 1.0 and will be removed in 1.2. Please use get_feature_names_out instead.\n",
            "  warnings.warn(msg, category=FutureWarning)\n"
          ]
        }
      ]
    },
    {
      "cell_type": "code",
      "source": [
        "tfidf_res = [] #код нашла здесь: https://stackoverflow.com/questions/34449127/sklearn-tfidf-transformer-how-to-get-tf-idf-values-of-given-words-in-documen\n",
        "for ind_text, text in enumerate(df[\"текст\"]):\n",
        "    words_data = dict()\n",
        "    feature_index = X[ind_text, :].nonzero()[1]\n",
        "    for w, s in [(feature_names[i], s) for (i, s) in zip(feature_index, [X[ind_text, x] for x in feature_index])]:\n",
        "        words_data[w] = s\n",
        "    tfidf_res.append([w for w, s in list(reversed(sorted(words_data.items(), key=lambda item: item[1])))[:5]])"
      ],
      "metadata": {
        "id": "aJcnJvvpRPZM"
      },
      "execution_count": 103,
      "outputs": []
    },
    {
      "cell_type": "code",
      "source": [
        "tfidf_res"
      ],
      "metadata": {
        "colab": {
          "base_uri": "https://localhost:8080/"
        },
        "id": "TJc9fVHtZfNp",
        "outputId": "6c697187-6fbd-4041-ba65-380726149469"
      },
      "execution_count": 104,
      "outputs": [
        {
          "output_type": "execute_result",
          "data": {
            "text/plain": [
              "[['погода', 'дождь', 'снег', 'ветер', 'плюс'],\n",
              " ['пособие', 'семья', 'ребёнок', 'беременная', 'закон'],\n",
              " ['джаз', 'армения', 'ереван', 'джудит', 'концерт'],\n",
              " ['гепатит', 'больной', 'план', 'лечение', 'минздрав'],\n",
              " ['пароль', 'слово', 'комбинация', '2022', 'password'],\n",
              " ['байден', 'индонезия', 'президент', 'оступиться', 'лестница'],\n",
              " ['самбо', 'борьба', 'вид', 'харлампиев', 'дзюдо'],\n",
              " ['скат', 'популяция', 'эколог', 'регион', 'численность'],\n",
              " ['чай', 'диетолог', 'чайный', 'вредный', 'терапевт'],\n",
              " ['печень', 'клетка', 'орган', 'помочь', 'проказа'],\n",
              " ['вирус', 'новый', 'клетка', 'учёный', 'проникать'],\n",
              " ['томск', 'собака', 'малыш', 'ребёнок', 'инцидент'],\n",
              " ['станция', 'внуково', 'мэр', 'солнцевский', 'метрополитен'],\n",
              " ['актёр', 'спейся', 'обвинение', 'кевин', 'суд'],\n",
              " ['узбекистан', 'земля', 'соглашение', 'граница', 'водохранилище']]"
            ]
          },
          "metadata": {},
          "execution_count": 104
        }
      ]
    },
    {
      "cell_type": "markdown",
      "source": [
        "## Шаблон"
      ],
      "metadata": {
        "id": "4BMhP-eYbafI"
      }
    },
    {
      "cell_type": "code",
      "source": [
        "templates = [[\"NOUN\"], [\"NOUN+NOUN\"], [\"ADJ+NOUN\"]]"
      ],
      "metadata": {
        "id": "WW83jsNGcQlR"
      },
      "execution_count": 246,
      "outputs": []
    },
    {
      "cell_type": "code",
      "source": [
        "def filter(kwords):\n",
        "    filtered_kwords = []\n",
        "    poses = []\n",
        "    if len(kwords) > 0:\n",
        "        for line in kwords:\n",
        "            print(line)\n",
        "            line_poses = [m.parse(w)[0].tag.POS for w in line.split() if m.parse(w)[0].tag.POS != None]\n",
        "            poses.append([\"+\".join(line_poses)])\n",
        "    for ind_w, w in enumerate(kwords):\n",
        "        if poses[ind_w] in templates:\n",
        "            filtered_kwords.append(w)\n",
        "    return filtered_kwords"
      ],
      "metadata": {
        "id": "X7a4XYS9d3oW"
      },
      "execution_count": 247,
      "outputs": []
    },
    {
      "cell_type": "code",
      "source": [
        "df_2 = pd.DataFrame({\"RAKE\" : rake_res,\n",
        "                     \"RAKE_filterd\" : [filter(kw_line) for kw_line in rake_res],\n",
        "                     \"TextRank\" : tr_res,\n",
        "                     \"TextRank_Filterd\" : [filter(kw_line) for kw_line in tr_res],\n",
        "                     \"TF-IDF\" : tfidf_res,\n",
        "                     \"TF-IDF_FILTERED\" : [filter(kw_line) for kw_line in tfidf_res]})\n",
        "df_2"
      ],
      "metadata": {
        "colab": {
          "base_uri": "https://localhost:8080/",
          "height": 1000
        },
        "id": "IV32u4Ay3tQU",
        "outputId": "6c327184-17e5-478e-f933-b97c6a998231"
      },
      "execution_count": 248,
      "outputs": [
        {
          "output_type": "stream",
          "name": "stdout",
          "text": [
            "\n",
            "беременная\n",
            "семья\n",
            "ребёнок\n",
            "армения\n",
            "гепатит\n",
            "\n",
            "лестница\n",
            "мероприятие\n",
            "дзюдо\n",
            "\n",
            "\n",
            "\n",
            "\n",
            "\n",
            "\n",
            "\n",
            "\n",
            "район\n",
            "страна\n",
            "погода\n",
            "работать\n",
            "сегодня\n",
            "совет федерация\n",
            "человек говориться\n",
            "трудоспособный население отмечаться\n",
            "региональный прожиточный минимум\n",
            "выплачиваться нуждаться\n",
            "джаз\n",
            "концерт\n",
            "фестиваль\n",
            "формат\n",
            "музыка\n",
            "необходимый\n",
            "необходимо\n",
            "гепатит\n",
            "салон\n",
            "программа\n",
            "комбинация\n",
            "популярный пароль\n",
            "слово password англ\n",
            "замыкать\n",
            "цифра\n",
            "байден\n",
            "саммит\n",
            "обменяться\n",
            "автомобиль\n",
            "индонезия джоко\n",
            "самбо\n",
            "харлампиев\n",
            "харлампий\n",
            "борьба\n",
            "вид\n",
            "популяция скат\n",
            "эколог\n",
            "являться\n",
            "численность\n",
            "регион учёный\n",
            "чай\n",
            "диетолог\n",
            "чайный\n",
            "полезный\n",
            "трусков специалист\n",
            "заболевание печень\n",
            "орган\n",
            "клетка\n",
            "врач учёный\n",
            "мочь\n",
            "новый\n",
            "вирус\n",
            "d\n",
            "который\n",
            "позволять\n",
            "собака\n",
            "томск\n",
            "ребёнок это\n",
            "инцидент\n",
            "пёс\n",
            "год\n",
            "мэр\n",
            "станция\n",
            "метрополитен\n",
            "метро\n",
            "обвинение\n",
            "суд\n",
            "американский актёр кевин спейся\n",
            "пять год\n",
            "лондон\n",
            "узбекистан\n",
            "население\n",
            "земля\n",
            "граница\n",
            "страна\n",
            "погода\n",
            "дождь\n",
            "снег\n",
            "ветер\n",
            "плюс\n",
            "пособие\n",
            "семья\n",
            "ребёнок\n",
            "беременная\n",
            "закон\n",
            "джаз\n",
            "армения\n",
            "ереван\n",
            "джудит\n",
            "концерт\n",
            "гепатит\n",
            "больной\n",
            "план\n",
            "лечение\n",
            "минздрав\n",
            "пароль\n",
            "слово\n",
            "комбинация\n",
            "2022\n",
            "password\n",
            "байден\n",
            "индонезия\n",
            "президент\n",
            "оступиться\n",
            "лестница\n",
            "самбо\n",
            "борьба\n",
            "вид\n",
            "харлампиев\n",
            "дзюдо\n",
            "скат\n",
            "популяция\n",
            "эколог\n",
            "регион\n",
            "численность\n",
            "чай\n",
            "диетолог\n",
            "чайный\n",
            "вредный\n",
            "терапевт\n",
            "печень\n",
            "клетка\n",
            "орган\n",
            "помочь\n",
            "проказа\n",
            "вирус\n",
            "новый\n",
            "клетка\n",
            "учёный\n",
            "проникать\n",
            "томск\n",
            "собака\n",
            "малыш\n",
            "ребёнок\n",
            "инцидент\n",
            "станция\n",
            "внуково\n",
            "мэр\n",
            "солнцевский\n",
            "метрополитен\n",
            "актёр\n",
            "спейся\n",
            "обвинение\n",
            "кевин\n",
            "суд\n",
            "узбекистан\n",
            "земля\n",
            "соглашение\n",
            "граница\n",
            "водохранилище\n"
          ]
        },
        {
          "output_type": "execute_result",
          "data": {
            "text/plain": [
              "                            RAKE             RAKE_filterd  \\\n",
              "0                             []                       []   \n",
              "1   [беременная, семья, ребёнок]         [семья, ребёнок]   \n",
              "2                      [армения]                [армения]   \n",
              "3                      [гепатит]                [гепатит]   \n",
              "4                             []                       []   \n",
              "5        [лестница, мероприятие]  [лестница, мероприятие]   \n",
              "6                        [дзюдо]                  [дзюдо]   \n",
              "7                             []                       []   \n",
              "8                             []                       []   \n",
              "9                             []                       []   \n",
              "10                            []                       []   \n",
              "11                            []                       []   \n",
              "12                            []                       []   \n",
              "13                            []                       []   \n",
              "14                            []                       []   \n",
              "\n",
              "                                             TextRank  \\\n",
              "0          [район, страна, погода, работать, сегодня]   \n",
              "1   [совет федерация, человек говориться, трудоспо...   \n",
              "2          [джаз, концерт, фестиваль, формат, музыка]   \n",
              "3   [необходимый, необходимо, гепатит, салон, прог...   \n",
              "4   [комбинация, популярный пароль, слово password...   \n",
              "5   [байден, саммит, обменяться, автомобиль, индон...   \n",
              "6         [самбо, харлампиев, харлампий, борьба, вид]   \n",
              "7   [популяция скат, эколог, являться, численность...   \n",
              "8   [чай, диетолог, чайный, полезный, трусков спец...   \n",
              "9   [заболевание печень, орган, клетка, врач учёны...   \n",
              "10              [новый, вирус, d, который, позволять]   \n",
              "11        [собака, томск, ребёнок это, инцидент, пёс]   \n",
              "12           [год, мэр, станция, метрополитен, метро]   \n",
              "13  [обвинение, суд, американский актёр кевин спей...   \n",
              "14    [узбекистан, население, земля, граница, страна]   \n",
              "\n",
              "                                     TextRank_Filterd  \\\n",
              "0                             [район, страна, погода]   \n",
              "1                                   [совет федерация]   \n",
              "2          [джаз, концерт, фестиваль, формат, музыка]   \n",
              "3                         [гепатит, салон, программа]   \n",
              "4                                 [комбинация, цифра]   \n",
              "5       [байден, саммит, автомобиль, индонезия джоко]   \n",
              "6         [самбо, харлампиев, харлампий, борьба, вид]   \n",
              "7   [популяция скат, эколог, численность, регион у...   \n",
              "8                 [чай, диетолог, трусков специалист]   \n",
              "9   [заболевание печень, орган, клетка, врач учёны...   \n",
              "10                                            [вирус]   \n",
              "11                     [собака, томск, инцидент, пёс]   \n",
              "12           [год, мэр, станция, метрополитен, метро]   \n",
              "13                           [обвинение, суд, лондон]   \n",
              "14    [узбекистан, население, земля, граница, страна]   \n",
              "\n",
              "                                               TF-IDF  \\\n",
              "0                  [погода, дождь, снег, ветер, плюс]   \n",
              "1        [пособие, семья, ребёнок, беременная, закон]   \n",
              "2            [джаз, армения, ереван, джудит, концерт]   \n",
              "3         [гепатит, больной, план, лечение, минздрав]   \n",
              "4         [пароль, слово, комбинация, 2022, password]   \n",
              "5   [байден, индонезия, президент, оступиться, лес...   \n",
              "6             [самбо, борьба, вид, харлампиев, дзюдо]   \n",
              "7      [скат, популяция, эколог, регион, численность]   \n",
              "8          [чай, диетолог, чайный, вредный, терапевт]   \n",
              "9            [печень, клетка, орган, помочь, проказа]   \n",
              "10          [вирус, новый, клетка, учёный, проникать]   \n",
              "11          [томск, собака, малыш, ребёнок, инцидент]   \n",
              "12  [станция, внуково, мэр, солнцевский, метрополи...   \n",
              "13             [актёр, спейся, обвинение, кевин, суд]   \n",
              "14  [узбекистан, земля, соглашение, граница, водох...   \n",
              "\n",
              "                                      TF-IDF_FILTERED  \n",
              "0                        [погода, дождь, снег, ветер]  \n",
              "1                    [пособие, семья, ребёнок, закон]  \n",
              "2            [джаз, армения, ереван, джудит, концерт]  \n",
              "3                  [гепатит, план, лечение, минздрав]  \n",
              "4                         [пароль, слово, комбинация]  \n",
              "5            [байден, индонезия, президент, лестница]  \n",
              "6             [самбо, борьба, вид, харлампиев, дзюдо]  \n",
              "7      [скат, популяция, эколог, регион, численность]  \n",
              "8                           [чай, диетолог, терапевт]  \n",
              "9                    [печень, клетка, орган, проказа]  \n",
              "10                            [вирус, клетка, учёный]  \n",
              "11          [томск, собака, малыш, ребёнок, инцидент]  \n",
              "12              [станция, внуково, мэр, метрополитен]  \n",
              "13                     [актёр, обвинение, кевин, суд]  \n",
              "14  [узбекистан, земля, соглашение, граница, водох...  "
            ],
            "text/html": [
              "\n",
              "  <div id=\"df-bed221b4-d74f-45f9-920a-523c5e45c20a\">\n",
              "    <div class=\"colab-df-container\">\n",
              "      <div>\n",
              "<style scoped>\n",
              "    .dataframe tbody tr th:only-of-type {\n",
              "        vertical-align: middle;\n",
              "    }\n",
              "\n",
              "    .dataframe tbody tr th {\n",
              "        vertical-align: top;\n",
              "    }\n",
              "\n",
              "    .dataframe thead th {\n",
              "        text-align: right;\n",
              "    }\n",
              "</style>\n",
              "<table border=\"1\" class=\"dataframe\">\n",
              "  <thead>\n",
              "    <tr style=\"text-align: right;\">\n",
              "      <th></th>\n",
              "      <th>RAKE</th>\n",
              "      <th>RAKE_filterd</th>\n",
              "      <th>TextRank</th>\n",
              "      <th>TextRank_Filterd</th>\n",
              "      <th>TF-IDF</th>\n",
              "      <th>TF-IDF_FILTERED</th>\n",
              "    </tr>\n",
              "  </thead>\n",
              "  <tbody>\n",
              "    <tr>\n",
              "      <th>0</th>\n",
              "      <td>[]</td>\n",
              "      <td>[]</td>\n",
              "      <td>[район, страна, погода, работать, сегодня]</td>\n",
              "      <td>[район, страна, погода]</td>\n",
              "      <td>[погода, дождь, снег, ветер, плюс]</td>\n",
              "      <td>[погода, дождь, снег, ветер]</td>\n",
              "    </tr>\n",
              "    <tr>\n",
              "      <th>1</th>\n",
              "      <td>[беременная, семья, ребёнок]</td>\n",
              "      <td>[семья, ребёнок]</td>\n",
              "      <td>[совет федерация, человек говориться, трудоспо...</td>\n",
              "      <td>[совет федерация]</td>\n",
              "      <td>[пособие, семья, ребёнок, беременная, закон]</td>\n",
              "      <td>[пособие, семья, ребёнок, закон]</td>\n",
              "    </tr>\n",
              "    <tr>\n",
              "      <th>2</th>\n",
              "      <td>[армения]</td>\n",
              "      <td>[армения]</td>\n",
              "      <td>[джаз, концерт, фестиваль, формат, музыка]</td>\n",
              "      <td>[джаз, концерт, фестиваль, формат, музыка]</td>\n",
              "      <td>[джаз, армения, ереван, джудит, концерт]</td>\n",
              "      <td>[джаз, армения, ереван, джудит, концерт]</td>\n",
              "    </tr>\n",
              "    <tr>\n",
              "      <th>3</th>\n",
              "      <td>[гепатит]</td>\n",
              "      <td>[гепатит]</td>\n",
              "      <td>[необходимый, необходимо, гепатит, салон, прог...</td>\n",
              "      <td>[гепатит, салон, программа]</td>\n",
              "      <td>[гепатит, больной, план, лечение, минздрав]</td>\n",
              "      <td>[гепатит, план, лечение, минздрав]</td>\n",
              "    </tr>\n",
              "    <tr>\n",
              "      <th>4</th>\n",
              "      <td>[]</td>\n",
              "      <td>[]</td>\n",
              "      <td>[комбинация, популярный пароль, слово password...</td>\n",
              "      <td>[комбинация, цифра]</td>\n",
              "      <td>[пароль, слово, комбинация, 2022, password]</td>\n",
              "      <td>[пароль, слово, комбинация]</td>\n",
              "    </tr>\n",
              "    <tr>\n",
              "      <th>5</th>\n",
              "      <td>[лестница, мероприятие]</td>\n",
              "      <td>[лестница, мероприятие]</td>\n",
              "      <td>[байден, саммит, обменяться, автомобиль, индон...</td>\n",
              "      <td>[байден, саммит, автомобиль, индонезия джоко]</td>\n",
              "      <td>[байден, индонезия, президент, оступиться, лес...</td>\n",
              "      <td>[байден, индонезия, президент, лестница]</td>\n",
              "    </tr>\n",
              "    <tr>\n",
              "      <th>6</th>\n",
              "      <td>[дзюдо]</td>\n",
              "      <td>[дзюдо]</td>\n",
              "      <td>[самбо, харлампиев, харлампий, борьба, вид]</td>\n",
              "      <td>[самбо, харлампиев, харлампий, борьба, вид]</td>\n",
              "      <td>[самбо, борьба, вид, харлампиев, дзюдо]</td>\n",
              "      <td>[самбо, борьба, вид, харлампиев, дзюдо]</td>\n",
              "    </tr>\n",
              "    <tr>\n",
              "      <th>7</th>\n",
              "      <td>[]</td>\n",
              "      <td>[]</td>\n",
              "      <td>[популяция скат, эколог, являться, численность...</td>\n",
              "      <td>[популяция скат, эколог, численность, регион у...</td>\n",
              "      <td>[скат, популяция, эколог, регион, численность]</td>\n",
              "      <td>[скат, популяция, эколог, регион, численность]</td>\n",
              "    </tr>\n",
              "    <tr>\n",
              "      <th>8</th>\n",
              "      <td>[]</td>\n",
              "      <td>[]</td>\n",
              "      <td>[чай, диетолог, чайный, полезный, трусков спец...</td>\n",
              "      <td>[чай, диетолог, трусков специалист]</td>\n",
              "      <td>[чай, диетолог, чайный, вредный, терапевт]</td>\n",
              "      <td>[чай, диетолог, терапевт]</td>\n",
              "    </tr>\n",
              "    <tr>\n",
              "      <th>9</th>\n",
              "      <td>[]</td>\n",
              "      <td>[]</td>\n",
              "      <td>[заболевание печень, орган, клетка, врач учёны...</td>\n",
              "      <td>[заболевание печень, орган, клетка, врач учёны...</td>\n",
              "      <td>[печень, клетка, орган, помочь, проказа]</td>\n",
              "      <td>[печень, клетка, орган, проказа]</td>\n",
              "    </tr>\n",
              "    <tr>\n",
              "      <th>10</th>\n",
              "      <td>[]</td>\n",
              "      <td>[]</td>\n",
              "      <td>[новый, вирус, d, который, позволять]</td>\n",
              "      <td>[вирус]</td>\n",
              "      <td>[вирус, новый, клетка, учёный, проникать]</td>\n",
              "      <td>[вирус, клетка, учёный]</td>\n",
              "    </tr>\n",
              "    <tr>\n",
              "      <th>11</th>\n",
              "      <td>[]</td>\n",
              "      <td>[]</td>\n",
              "      <td>[собака, томск, ребёнок это, инцидент, пёс]</td>\n",
              "      <td>[собака, томск, инцидент, пёс]</td>\n",
              "      <td>[томск, собака, малыш, ребёнок, инцидент]</td>\n",
              "      <td>[томск, собака, малыш, ребёнок, инцидент]</td>\n",
              "    </tr>\n",
              "    <tr>\n",
              "      <th>12</th>\n",
              "      <td>[]</td>\n",
              "      <td>[]</td>\n",
              "      <td>[год, мэр, станция, метрополитен, метро]</td>\n",
              "      <td>[год, мэр, станция, метрополитен, метро]</td>\n",
              "      <td>[станция, внуково, мэр, солнцевский, метрополи...</td>\n",
              "      <td>[станция, внуково, мэр, метрополитен]</td>\n",
              "    </tr>\n",
              "    <tr>\n",
              "      <th>13</th>\n",
              "      <td>[]</td>\n",
              "      <td>[]</td>\n",
              "      <td>[обвинение, суд, американский актёр кевин спей...</td>\n",
              "      <td>[обвинение, суд, лондон]</td>\n",
              "      <td>[актёр, спейся, обвинение, кевин, суд]</td>\n",
              "      <td>[актёр, обвинение, кевин, суд]</td>\n",
              "    </tr>\n",
              "    <tr>\n",
              "      <th>14</th>\n",
              "      <td>[]</td>\n",
              "      <td>[]</td>\n",
              "      <td>[узбекистан, население, земля, граница, страна]</td>\n",
              "      <td>[узбекистан, население, земля, граница, страна]</td>\n",
              "      <td>[узбекистан, земля, соглашение, граница, водох...</td>\n",
              "      <td>[узбекистан, земля, соглашение, граница, водох...</td>\n",
              "    </tr>\n",
              "  </tbody>\n",
              "</table>\n",
              "</div>\n",
              "      <button class=\"colab-df-convert\" onclick=\"convertToInteractive('df-bed221b4-d74f-45f9-920a-523c5e45c20a')\"\n",
              "              title=\"Convert this dataframe to an interactive table.\"\n",
              "              style=\"display:none;\">\n",
              "        \n",
              "  <svg xmlns=\"http://www.w3.org/2000/svg\" height=\"24px\"viewBox=\"0 0 24 24\"\n",
              "       width=\"24px\">\n",
              "    <path d=\"M0 0h24v24H0V0z\" fill=\"none\"/>\n",
              "    <path d=\"M18.56 5.44l.94 2.06.94-2.06 2.06-.94-2.06-.94-.94-2.06-.94 2.06-2.06.94zm-11 1L8.5 8.5l.94-2.06 2.06-.94-2.06-.94L8.5 2.5l-.94 2.06-2.06.94zm10 10l.94 2.06.94-2.06 2.06-.94-2.06-.94-.94-2.06-.94 2.06-2.06.94z\"/><path d=\"M17.41 7.96l-1.37-1.37c-.4-.4-.92-.59-1.43-.59-.52 0-1.04.2-1.43.59L10.3 9.45l-7.72 7.72c-.78.78-.78 2.05 0 2.83L4 21.41c.39.39.9.59 1.41.59.51 0 1.02-.2 1.41-.59l7.78-7.78 2.81-2.81c.8-.78.8-2.07 0-2.86zM5.41 20L4 18.59l7.72-7.72 1.47 1.35L5.41 20z\"/>\n",
              "  </svg>\n",
              "      </button>\n",
              "      \n",
              "  <style>\n",
              "    .colab-df-container {\n",
              "      display:flex;\n",
              "      flex-wrap:wrap;\n",
              "      gap: 12px;\n",
              "    }\n",
              "\n",
              "    .colab-df-convert {\n",
              "      background-color: #E8F0FE;\n",
              "      border: none;\n",
              "      border-radius: 50%;\n",
              "      cursor: pointer;\n",
              "      display: none;\n",
              "      fill: #1967D2;\n",
              "      height: 32px;\n",
              "      padding: 0 0 0 0;\n",
              "      width: 32px;\n",
              "    }\n",
              "\n",
              "    .colab-df-convert:hover {\n",
              "      background-color: #E2EBFA;\n",
              "      box-shadow: 0px 1px 2px rgba(60, 64, 67, 0.3), 0px 1px 3px 1px rgba(60, 64, 67, 0.15);\n",
              "      fill: #174EA6;\n",
              "    }\n",
              "\n",
              "    [theme=dark] .colab-df-convert {\n",
              "      background-color: #3B4455;\n",
              "      fill: #D2E3FC;\n",
              "    }\n",
              "\n",
              "    [theme=dark] .colab-df-convert:hover {\n",
              "      background-color: #434B5C;\n",
              "      box-shadow: 0px 1px 3px 1px rgba(0, 0, 0, 0.15);\n",
              "      filter: drop-shadow(0px 1px 2px rgba(0, 0, 0, 0.3));\n",
              "      fill: #FFFFFF;\n",
              "    }\n",
              "  </style>\n",
              "\n",
              "      <script>\n",
              "        const buttonEl =\n",
              "          document.querySelector('#df-bed221b4-d74f-45f9-920a-523c5e45c20a button.colab-df-convert');\n",
              "        buttonEl.style.display =\n",
              "          google.colab.kernel.accessAllowed ? 'block' : 'none';\n",
              "\n",
              "        async function convertToInteractive(key) {\n",
              "          const element = document.querySelector('#df-bed221b4-d74f-45f9-920a-523c5e45c20a');\n",
              "          const dataTable =\n",
              "            await google.colab.kernel.invokeFunction('convertToInteractive',\n",
              "                                                     [key], {});\n",
              "          if (!dataTable) return;\n",
              "\n",
              "          const docLinkHtml = 'Like what you see? Visit the ' +\n",
              "            '<a target=\"_blank\" href=https://colab.research.google.com/notebooks/data_table.ipynb>data table notebook</a>'\n",
              "            + ' to learn more about interactive tables.';\n",
              "          element.innerHTML = '';\n",
              "          dataTable['output_type'] = 'display_data';\n",
              "          await google.colab.output.renderOutput(dataTable, element);\n",
              "          const docLink = document.createElement('div');\n",
              "          docLink.innerHTML = docLinkHtml;\n",
              "          element.appendChild(docLink);\n",
              "        }\n",
              "      </script>\n",
              "    </div>\n",
              "  </div>\n",
              "  "
            ]
          },
          "metadata": {},
          "execution_count": 248
        }
      ]
    },
    {
      "cell_type": "markdown",
      "source": [
        "## Оценка"
      ],
      "metadata": {
        "id": "YZCRlt7n8MqD"
      }
    },
    {
      "cell_type": "code",
      "source": [
        "import numpy as np"
      ],
      "metadata": {
        "id": "FiJ8b3WbJC40"
      },
      "execution_count": 220,
      "outputs": []
    },
    {
      "cell_type": "code",
      "source": [
        "def pr_rec_f(pred, standard):\n",
        "    tp = set(pred).intersection(standard) \n",
        "    fp = set(pred) - tp\n",
        "    fn = set(standard) - tp\n",
        "    if len(tp) == 0:\n",
        "        prec = 0\n",
        "        rec = 0\n",
        "        f = 0\n",
        "    else:\n",
        "        prec = len(tp) / (len(tp) + len(fp))\n",
        "        rec = len(tp) / (len(tp) + len(fn))\n",
        "        f = 2 * ((prec * rec) / (prec + rec))\n",
        "    return prec, rec, f"
      ],
      "metadata": {
        "id": "M4xMXQrlAC_6"
      },
      "execution_count": 233,
      "outputs": []
    },
    {
      "cell_type": "code",
      "source": [
        "def total_results(pred, standard):\n",
        "    precs = []\n",
        "    recs = []\n",
        "    fs = []\n",
        "    for a, b in zip(pred, standard):\n",
        "        p, r, f = pr_rec_f(a, b)\n",
        "        precs.append(p)\n",
        "        recs.append(r)\n",
        "        fs.append(f)\n",
        "    ave_prec, ave_rec, ave_f = np.mean(precs), np.mean(recs), np.mean(fs)\n",
        "    return {\"Precision\": ave_prec, \"Recall\": ave_rec, \"F-score\": ave_f}"
      ],
      "metadata": {
        "id": "v9g1R8RTBmo0"
      },
      "execution_count": 250,
      "outputs": []
    },
    {
      "cell_type": "code",
      "source": [
        "print(\"RAKE\", total_results(df_2[\"RAKE\"], all_kwords))\n",
        "print(\"RAKE_filterd\", total_results(df_2[\"RAKE_filterd\"], all_kwords))\n",
        "print(\"TextRank\", total_results(df_2[\"TextRank\"], all_kwords))\n",
        "print(\"TextRank_Filtered\", total_results(df_2[\"TextRank_Filterd\"], all_kwords))\n",
        "print(\"TF-IDF\", total_results(df_2[\"TF-IDF\"], all_kwords))\n",
        "print(\"TF-IDF_FILTERED\", total_results(df_2[\"TF-IDF_FILTERED\"], all_kwords))"
      ],
      "metadata": {
        "colab": {
          "base_uri": "https://localhost:8080/"
        },
        "id": "iQO65bHEKj_c",
        "outputId": "a2b4806b-ce76-4699-9763-cd0900236ebc"
      },
      "execution_count": 251,
      "outputs": [
        {
          "output_type": "stream",
          "name": "stdout",
          "text": [
            "RAKE {'Precision': 0.05555555555555555, 'Recall': 0.027777777777777776, 'F-score': 0.03703703703703704}\n",
            "RAKE_filterd {'Precision': 0.06666666666666667, 'Recall': 0.027777777777777776, 'F-score': 0.03888888888888888}\n",
            "TextRank {'Precision': 0.14666666666666664, 'Recall': 0.2744444444444445, 'F-score': 0.18105820105820106}\n",
            "TextRank_Filtered {'Precision': 0.24222222222222226, 'Recall': 0.2744444444444445, 'F-score': 0.21735449735449733}\n",
            "TF-IDF {'Precision': 0.2800000000000001, 'Recall': 0.4622222222222222, 'F-score': 0.32371813371813374}\n",
            "TF-IDF_FILTERED {'Precision': 0.34666666666666673, 'Recall': 0.4622222222222222, 'F-score': 0.3664021164021164}\n"
          ]
        }
      ]
    }
  ]
}