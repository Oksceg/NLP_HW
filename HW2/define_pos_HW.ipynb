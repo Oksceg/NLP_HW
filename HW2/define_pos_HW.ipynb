{
  "nbformat": 4,
  "nbformat_minor": 0,
  "metadata": {
    "colab": {
      "name": "define_pos_HW.ipynb",
      "provenance": [],
      "collapsed_sections": []
    },
    "kernelspec": {
      "name": "python3",
      "display_name": "Python 3"
    },
    "language_info": {
      "name": "python"
    }
  },
  "cells": [
    {
      "cell_type": "markdown",
      "metadata": {
        "id": "7GxPwXxGSLnC"
      },
      "source": [
        "### Часть 1: импорт библиотек и текст"
      ]
    },
    {
      "cell_type": "markdown",
      "metadata": {
        "id": "wdiADJfQShWr"
      },
      "source": [
        "Для дальнейшей обработки текста сразу скачаем и импортнем данные трех библиотек для Python: PyMystem3, PyMorphy2 и Natasha"
      ]
    },
    {
      "cell_type": "code",
      "metadata": {
        "id": "LiinJV39PGay"
      },
      "source": [
        "!pip install pymystem3==0.1.10"
      ],
      "execution_count": null,
      "outputs": []
    },
    {
      "cell_type": "code",
      "metadata": {
        "id": "_vSOUm8QQAnG"
      },
      "source": [
        "!pip install pymorphy2"
      ],
      "execution_count": null,
      "outputs": []
    },
    {
      "cell_type": "code",
      "metadata": {
        "id": "KGh8tlkcQICz"
      },
      "source": [
        "!pip install natasha"
      ],
      "execution_count": null,
      "outputs": []
    },
    {
      "cell_type": "code",
      "metadata": {
        "id": "OakexP0EPT4e"
      },
      "source": [
        "import pandas as pd\n",
        "import re\n",
        "from pymorphy2 import MorphAnalyzer\n",
        "from pymystem3 import Mystem"
      ],
      "execution_count": 4,
      "outputs": []
    },
    {
      "cell_type": "code",
      "metadata": {
        "id": "YOoq8fkUP9pP"
      },
      "source": [
        "from natasha import (\n",
        "    Segmenter,\n",
        "    MorphVocab,\n",
        "    \n",
        "    NewsEmbedding,\n",
        "    NewsMorphTagger,\n",
        "    NewsSyntaxParser,\n",
        "    NewsNERTagger,\n",
        "    \n",
        "    PER,\n",
        "    NamesExtractor,\n",
        "\n",
        "    Doc\n",
        ")"
      ],
      "execution_count": 10,
      "outputs": []
    },
    {
      "cell_type": "markdown",
      "metadata": {
        "id": "QCxNouMfTGM1"
      },
      "source": [
        "Теперь о самом тексте: он был составлен из отрывков различных грамматических справок о субстантивации — когда другие части речи переходят в класс существительных. Большую часть текста составляют именно примеры с субстантивами (иногда — с их исходными прилагательными) из маленьких статей и НКРЯ. Поскольку текст изначально нужно было разметить самостоятельно, то при составлении текста я убирала пунктуацию и приводила все к нижнему регистру. Кроме того, сразу размечала слова в Excel."
      ]
    },
    {
      "cell_type": "markdown",
      "metadata": {
        "id": "CKTtXlBnXkgE"
      },
      "source": [
        "Обозначения POS: ADVB-наречие, ADJF-прилагательное, CONJ-союз, DET-детерминатив, NOUN-существительное, NUMB-числительное, PREP-предлог, PRON-Местоимение, PRTF-полное причастие, PRTS-краткое причастие, PTCL-частица, V-глагол"
      ]
    },
    {
      "cell_type": "code",
      "metadata": {
        "colab": {
          "base_uri": "https://localhost:8080/",
          "height": 423
        },
        "id": "voR2zjJAQSd8",
        "outputId": "cea1da0c-aa83-4573-80af-35852215bf4e"
      },
      "source": [
        "xl = pd.ExcelFile(r\"substext.xlsx\")\n",
        "df_1 = xl.parse(\"Лист1\")\n",
        "df_1"
      ],
      "execution_count": 5,
      "outputs": [
        {
          "output_type": "execute_result",
          "data": {
            "text/html": [
              "<div>\n",
              "<style scoped>\n",
              "    .dataframe tbody tr th:only-of-type {\n",
              "        vertical-align: middle;\n",
              "    }\n",
              "\n",
              "    .dataframe tbody tr th {\n",
              "        vertical-align: top;\n",
              "    }\n",
              "\n",
              "    .dataframe thead th {\n",
              "        text-align: right;\n",
              "    }\n",
              "</style>\n",
              "<table border=\"1\" class=\"dataframe\">\n",
              "  <thead>\n",
              "    <tr style=\"text-align: right;\">\n",
              "      <th></th>\n",
              "      <th>word</th>\n",
              "      <th>POS</th>\n",
              "    </tr>\n",
              "  </thead>\n",
              "  <tbody>\n",
              "    <tr>\n",
              "      <th>0</th>\n",
              "      <td>иногда</td>\n",
              "      <td>ADVB</td>\n",
              "    </tr>\n",
              "    <tr>\n",
              "      <th>1</th>\n",
              "      <td>я</td>\n",
              "      <td>PRON</td>\n",
              "    </tr>\n",
              "    <tr>\n",
              "      <th>2</th>\n",
              "      <td>хочу</td>\n",
              "      <td>V</td>\n",
              "    </tr>\n",
              "    <tr>\n",
              "      <th>3</th>\n",
              "      <td>подумать</td>\n",
              "      <td>V</td>\n",
              "    </tr>\n",
              "    <tr>\n",
              "      <th>4</th>\n",
              "      <td>о</td>\n",
              "      <td>PREP</td>\n",
              "    </tr>\n",
              "    <tr>\n",
              "      <th>...</th>\n",
              "      <td>...</td>\n",
              "      <td>...</td>\n",
              "    </tr>\n",
              "    <tr>\n",
              "      <th>214</th>\n",
              "      <td>и</td>\n",
              "      <td>CONJ</td>\n",
              "    </tr>\n",
              "    <tr>\n",
              "      <th>215</th>\n",
              "      <td>содержательным</td>\n",
              "      <td>ADJF</td>\n",
              "    </tr>\n",
              "    <tr>\n",
              "      <th>216</th>\n",
              "      <td>воспоминанием</td>\n",
              "      <td>NOUN</td>\n",
              "    </tr>\n",
              "    <tr>\n",
              "      <th>217</th>\n",
              "      <td>о</td>\n",
              "      <td>PREP</td>\n",
              "    </tr>\n",
              "    <tr>\n",
              "      <th>218</th>\n",
              "      <td>прошлом</td>\n",
              "      <td>NOUN</td>\n",
              "    </tr>\n",
              "  </tbody>\n",
              "</table>\n",
              "<p>219 rows × 2 columns</p>\n",
              "</div>"
            ],
            "text/plain": [
              "               word   POS\n",
              "0            иногда  ADVB\n",
              "1                 я  PRON\n",
              "2              хочу     V\n",
              "3          подумать     V\n",
              "4                 о  PREP\n",
              "..              ...   ...\n",
              "214               и  CONJ\n",
              "215  содержательным  ADJF\n",
              "216   воспоминанием  NOUN\n",
              "217               о  PREP\n",
              "218         прошлом  NOUN\n",
              "\n",
              "[219 rows x 2 columns]"
            ]
          },
          "metadata": {},
          "execution_count": 5
        }
      ]
    },
    {
      "cell_type": "markdown",
      "metadata": {
        "id": "7nyfwAHOV1xW"
      },
      "source": [
        "Текст сам по себе нам тоже понадобится, поэтому сохраним его в переменной *text*:"
      ]
    },
    {
      "cell_type": "code",
      "metadata": {
        "colab": {
          "base_uri": "https://localhost:8080/",
          "height": 140
        },
        "id": "_0ETtTLmQapA",
        "outputId": "d547b54e-810a-4768-b7cf-24c86038d5ae"
      },
      "source": [
        "text = ' '.join(df_1[\"word\"])\n",
        "text"
      ],
      "execution_count": 6,
      "outputs": [
        {
          "output_type": "execute_result",
          "data": {
            "application/vnd.google.colaboratory.intrinsic+json": {
              "type": "string"
            },
            "text/plain": [
              "'иногда я хочу подумать о различных сложных и неоднозначных моментах в русском в плане определения части речи по большей части буду говорить про субстантивацию это явление можно считать древним но в то же время развивающимся процессом например некоторые прилагательные очень давно перешли в существительные к ним относятся существительные обозначающие фамилии и названия населённых пунктов иванов петров никитин фомин марьино митино существительное полученное в результате субстантивации называется субстантиватом исходное прилагательное мотивирующим прилагательным полная субстантивация когда прилагательное полностью перешло в существительное как прилагательное оно уже не может использоваться приведем примеры где такие субстантивы употреблены в предложениях я только возил каталки с больными в перевязочную на рентген в операционную его тугое ухо уловило со стороны ванной странный звук я буду ходить с сашей к портным этот город полон любовью там можно даже камню на мостовой сказать люблю приданое моё было такое что о нём не стоило и говорить частичная или неполная субстантивация когда слово употребляется иногда как прилагательное иногда как существительное примеры русский народ и русский военный врач и военный жаркое лето и жаркое горячее солнце и горячее больные пациенты и больные выздоравливающие люди и выздоравливающие папа ваня служил по договору в городской пожарной команде он был хорошим пожарным мороженое мясо всегда оказывалось таким один день на диване перед телевизором с мороженым всей семьей останется самым теплым и содержательным воспоминанием о прошлом'"
            ]
          },
          "metadata": {},
          "execution_count": 6
        }
      ]
    },
    {
      "cell_type": "markdown",
      "metadata": {
        "id": "BRdwgWYfWPiZ"
      },
      "source": [
        "### Часть 2: POS Tagging"
      ]
    },
    {
      "cell_type": "markdown",
      "metadata": {
        "id": "AnF1EmzHWYDN"
      },
      "source": [
        "PyMorphy2:"
      ]
    },
    {
      "cell_type": "code",
      "metadata": {
        "colab": {
          "base_uri": "https://localhost:8080/"
        },
        "id": "0wt8aH8RQexh",
        "outputId": "888e176b-f504-406a-c391-76f30d7807fc"
      },
      "source": [
        "%%time\n",
        "morph = MorphAnalyzer() \n",
        "pyms_info = [morph.parse(word) for word in text.split()]\n",
        "pyms = [str(word_tag[0].tag)[:4] for word_tag in pyms_info]  "
      ],
      "execution_count": 7,
      "outputs": [
        {
          "output_type": "stream",
          "name": "stdout",
          "text": [
            "CPU times: user 179 ms, sys: 33 ms, total: 212 ms\n",
            "Wall time: 222 ms\n"
          ]
        }
      ]
    },
    {
      "cell_type": "markdown",
      "metadata": {
        "id": "o3Sl1GFaWg2H"
      },
      "source": [
        "PyMystem3:"
      ]
    },
    {
      "cell_type": "code",
      "metadata": {
        "colab": {
          "base_uri": "https://localhost:8080/"
        },
        "id": "s8EvJPN6QvVp",
        "outputId": "189ed661-81ac-4e20-d8db-2dc6d848530f"
      },
      "source": [
        "%%time\n",
        "mstm = Mystem()\n",
        "mstms_info = mstm.analyze(text)\n",
        "del(mstms_info[-1])\n",
        "mstms = []\n",
        "for word in mstms_info:\n",
        "    if word['text'] != ' ':\n",
        "        tag_line = str(word['analysis'][0]['gr'])\n",
        "        pos = re.findall(r'[A-Z]*', tag_line)\n",
        "        mstms.append(pos[0])"
      ],
      "execution_count": 8,
      "outputs": [
        {
          "output_type": "stream",
          "name": "stderr",
          "text": [
            "Installing mystem to /root/.local/bin/mystem from http://download.cdn.yandex.net/mystem/mystem-3.0-linux3.1-64bit.tar.gz\n"
          ]
        },
        {
          "output_type": "stream",
          "name": "stdout",
          "text": [
            "CPU times: user 346 ms, sys: 86.2 ms, total: 433 ms\n",
            "Wall time: 4.23 s\n"
          ]
        }
      ]
    },
    {
      "cell_type": "markdown",
      "metadata": {
        "id": "2kt0MjkKW3lY"
      },
      "source": [
        "Natasha:"
      ]
    },
    {
      "cell_type": "code",
      "metadata": {
        "id": "yuxscTiCRogq",
        "colab": {
          "base_uri": "https://localhost:8080/"
        },
        "outputId": "e20f9e9f-9719-49e3-cf89-b746481afd65"
      },
      "source": [
        "%%time\n",
        "segmenter = Segmenter()\n",
        "morph_vocab = MorphVocab()\n",
        "emb = NewsEmbedding()\n",
        "morph_tagger = NewsMorphTagger(emb)\n",
        "\n",
        "doc = Doc(text)\n",
        "doc.segment(segmenter)\n",
        "doc.tag_morph(morph_tagger)\n",
        "\n",
        "nats = []\n",
        "for line in doc.sents[0].morph:\n",
        "    for word in line:\n",
        "        nats.append(word.pos)"
      ],
      "execution_count": 11,
      "outputs": [
        {
          "output_type": "stream",
          "name": "stdout",
          "text": [
            "CPU times: user 745 ms, sys: 347 ms, total: 1.09 s\n",
            "Wall time: 951 ms\n"
          ]
        }
      ]
    },
    {
      "cell_type": "markdown",
      "metadata": {
        "id": "3Ziyl4ECXA3z"
      },
      "source": [
        "Добавим результаты в таблицу:"
      ]
    },
    {
      "cell_type": "code",
      "metadata": {
        "id": "GxS1oNDnQ_75"
      },
      "source": [
        "df_1[\"Pymorphy POS\"] = pyms\n",
        "df_1[\"Mystem POS\"] = mstms\n",
        "df_1[\"Natasha POS\"] = nats"
      ],
      "execution_count": 12,
      "outputs": []
    },
    {
      "cell_type": "markdown",
      "metadata": {
        "id": "w8sbj5gnXJjb"
      },
      "source": [
        "### Часть 3: Единый стандарт и Accuracy"
      ]
    },
    {
      "cell_type": "code",
      "metadata": {
        "id": "LRyB5oHzcezG"
      },
      "source": [
        "def one_standard(some_df):\n",
        "    some_df = some_df.replace('ADJ', 'ADJF')\n",
        "    some_df = some_df.replace('A', 'ADJF')\n",
        "    some_df = some_df.replace('APRO', 'DET')\n",
        "    some_df = some_df.replace('ADV', 'ADVB')\n",
        "    some_df = some_df.replace('ADVPRO', 'ADVB')\n",
        "    some_df = some_df.replace('S', 'NOUN')\n",
        "    some_df = some_df.replace('NUM', 'NUMB')\n",
        "    some_df = some_df.replace('CCONJ', 'CONJ')\n",
        "    some_df = some_df.replace('SCONJ', 'CONJ')\n",
        "    some_df = some_df.replace('PR', 'PREP')\n",
        "    some_df = some_df.replace('ADP', 'PREP')\n",
        "    some_df = some_df.replace('NPRO', 'PRON')\n",
        "    some_df = some_df.replace('SPRO', 'PRON')\n",
        "    some_df = some_df.replace('PTCL', 'PART')\n",
        "    some_df = some_df.replace('PRCL', 'PART')\n",
        "    some_df = some_df.replace('V', 'VERB')\n",
        "    some_df = some_df.replace('PRED', 'VERB')\n",
        "    some_df = some_df.replace('INFN', 'VERB')\n",
        "    some_df = some_df.replace('AUX', 'VERB')\n",
        "    return some_df"
      ],
      "execution_count": 13,
      "outputs": []
    },
    {
      "cell_type": "code",
      "metadata": {
        "id": "Nh_CBSBIfPDk"
      },
      "source": [
        "df_1 = one_standard(df_1)"
      ],
      "execution_count": 14,
      "outputs": []
    },
    {
      "cell_type": "code",
      "metadata": {
        "colab": {
          "base_uri": "https://localhost:8080/",
          "height": 423
        },
        "id": "c3IYy6VYkMj4",
        "outputId": "83bba8f1-98a2-496a-b7ce-ff2c42356ef1"
      },
      "source": [
        "df_1"
      ],
      "execution_count": 15,
      "outputs": [
        {
          "output_type": "execute_result",
          "data": {
            "text/html": [
              "<div>\n",
              "<style scoped>\n",
              "    .dataframe tbody tr th:only-of-type {\n",
              "        vertical-align: middle;\n",
              "    }\n",
              "\n",
              "    .dataframe tbody tr th {\n",
              "        vertical-align: top;\n",
              "    }\n",
              "\n",
              "    .dataframe thead th {\n",
              "        text-align: right;\n",
              "    }\n",
              "</style>\n",
              "<table border=\"1\" class=\"dataframe\">\n",
              "  <thead>\n",
              "    <tr style=\"text-align: right;\">\n",
              "      <th></th>\n",
              "      <th>word</th>\n",
              "      <th>POS</th>\n",
              "      <th>Pymorphy POS</th>\n",
              "      <th>Mystem POS</th>\n",
              "      <th>Natasha POS</th>\n",
              "    </tr>\n",
              "  </thead>\n",
              "  <tbody>\n",
              "    <tr>\n",
              "      <th>0</th>\n",
              "      <td>иногда</td>\n",
              "      <td>ADVB</td>\n",
              "      <td>ADVB</td>\n",
              "      <td>ADVB</td>\n",
              "      <td>ADVB</td>\n",
              "    </tr>\n",
              "    <tr>\n",
              "      <th>1</th>\n",
              "      <td>я</td>\n",
              "      <td>PRON</td>\n",
              "      <td>PRON</td>\n",
              "      <td>PRON</td>\n",
              "      <td>PRON</td>\n",
              "    </tr>\n",
              "    <tr>\n",
              "      <th>2</th>\n",
              "      <td>хочу</td>\n",
              "      <td>VERB</td>\n",
              "      <td>VERB</td>\n",
              "      <td>VERB</td>\n",
              "      <td>VERB</td>\n",
              "    </tr>\n",
              "    <tr>\n",
              "      <th>3</th>\n",
              "      <td>подумать</td>\n",
              "      <td>VERB</td>\n",
              "      <td>VERB</td>\n",
              "      <td>VERB</td>\n",
              "      <td>VERB</td>\n",
              "    </tr>\n",
              "    <tr>\n",
              "      <th>4</th>\n",
              "      <td>о</td>\n",
              "      <td>PREP</td>\n",
              "      <td>PREP</td>\n",
              "      <td>PREP</td>\n",
              "      <td>PREP</td>\n",
              "    </tr>\n",
              "    <tr>\n",
              "      <th>...</th>\n",
              "      <td>...</td>\n",
              "      <td>...</td>\n",
              "      <td>...</td>\n",
              "      <td>...</td>\n",
              "      <td>...</td>\n",
              "    </tr>\n",
              "    <tr>\n",
              "      <th>214</th>\n",
              "      <td>и</td>\n",
              "      <td>CONJ</td>\n",
              "      <td>CONJ</td>\n",
              "      <td>CONJ</td>\n",
              "      <td>CONJ</td>\n",
              "    </tr>\n",
              "    <tr>\n",
              "      <th>215</th>\n",
              "      <td>содержательным</td>\n",
              "      <td>ADJF</td>\n",
              "      <td>ADJF</td>\n",
              "      <td>ADJF</td>\n",
              "      <td>ADJF</td>\n",
              "    </tr>\n",
              "    <tr>\n",
              "      <th>216</th>\n",
              "      <td>воспоминанием</td>\n",
              "      <td>NOUN</td>\n",
              "      <td>NOUN</td>\n",
              "      <td>NOUN</td>\n",
              "      <td>NOUN</td>\n",
              "    </tr>\n",
              "    <tr>\n",
              "      <th>217</th>\n",
              "      <td>о</td>\n",
              "      <td>PREP</td>\n",
              "      <td>PREP</td>\n",
              "      <td>PREP</td>\n",
              "      <td>PREP</td>\n",
              "    </tr>\n",
              "    <tr>\n",
              "      <th>218</th>\n",
              "      <td>прошлом</td>\n",
              "      <td>NOUN</td>\n",
              "      <td>ADJF</td>\n",
              "      <td>NOUN</td>\n",
              "      <td>NOUN</td>\n",
              "    </tr>\n",
              "  </tbody>\n",
              "</table>\n",
              "<p>219 rows × 5 columns</p>\n",
              "</div>"
            ],
            "text/plain": [
              "               word   POS Pymorphy POS Mystem POS Natasha POS\n",
              "0            иногда  ADVB         ADVB       ADVB        ADVB\n",
              "1                 я  PRON         PRON       PRON        PRON\n",
              "2              хочу  VERB         VERB       VERB        VERB\n",
              "3          подумать  VERB         VERB       VERB        VERB\n",
              "4                 о  PREP         PREP       PREP        PREP\n",
              "..              ...   ...          ...        ...         ...\n",
              "214               и  CONJ         CONJ       CONJ        CONJ\n",
              "215  содержательным  ADJF         ADJF       ADJF        ADJF\n",
              "216   воспоминанием  NOUN         NOUN       NOUN        NOUN\n",
              "217               о  PREP         PREP       PREP        PREP\n",
              "218         прошлом  NOUN         ADJF       NOUN        NOUN\n",
              "\n",
              "[219 rows x 5 columns]"
            ]
          },
          "metadata": {},
          "execution_count": 15
        }
      ]
    },
    {
      "cell_type": "code",
      "metadata": {
        "id": "0vgpospIwISf"
      },
      "source": [
        "from sklearn.metrics import accuracy_score"
      ],
      "execution_count": 16,
      "outputs": []
    },
    {
      "cell_type": "code",
      "metadata": {
        "colab": {
          "base_uri": "https://localhost:8080/"
        },
        "id": "jWduHOHBwJzd",
        "outputId": "6b8c9a8e-7dd8-42af-edce-7772ef5af7eb"
      },
      "source": [
        "pym_accr = accuracy_score(df_1[\"POS\"], df_1[\"Pymorphy POS\"])\n",
        "mstm_accr = accuracy_score(df_1[\"POS\"], df_1[\"Mystem POS\"])\n",
        "nat_accr = accuracy_score(df_1[\"POS\"], df_1[\"Natasha POS\"])\n",
        "\n",
        "print(f\"Accuracy:\\npymorphy: {pym_accr}\\npymystem: {mstm_accr}\\nNatasha: {nat_accr}\")"
      ],
      "execution_count": 17,
      "outputs": [
        {
          "output_type": "stream",
          "name": "stdout",
          "text": [
            "Accuracy:\n",
            "pymorphy: 0.863013698630137\n",
            "pymystem: 0.8767123287671232\n",
            "Natasha: 0.8493150684931506\n"
          ]
        }
      ]
    },
    {
      "cell_type": "markdown",
      "metadata": {
        "id": "Zn3mtdA7FcHt"
      },
      "source": [
        "Вывод: MyStem выполнил задачу лучше всего"
      ]
    },
    {
      "cell_type": "markdown",
      "metadata": {
        "id": "8nbvWuLPZFvd"
      },
      "source": [
        "### Часть 4"
      ]
    },
    {
      "cell_type": "code",
      "metadata": {
        "colab": {
          "base_uri": "https://localhost:8080/",
          "height": 423
        },
        "id": "lN8vkVOXZato",
        "outputId": "badcff70-9597-4561-891c-a7d8649ae47b"
      },
      "source": [
        "df_2 = df_1[[\"word\", \"Mystem POS\"]]\n",
        "df_2"
      ],
      "execution_count": 18,
      "outputs": [
        {
          "output_type": "execute_result",
          "data": {
            "text/html": [
              "<div>\n",
              "<style scoped>\n",
              "    .dataframe tbody tr th:only-of-type {\n",
              "        vertical-align: middle;\n",
              "    }\n",
              "\n",
              "    .dataframe tbody tr th {\n",
              "        vertical-align: top;\n",
              "    }\n",
              "\n",
              "    .dataframe thead th {\n",
              "        text-align: right;\n",
              "    }\n",
              "</style>\n",
              "<table border=\"1\" class=\"dataframe\">\n",
              "  <thead>\n",
              "    <tr style=\"text-align: right;\">\n",
              "      <th></th>\n",
              "      <th>word</th>\n",
              "      <th>Mystem POS</th>\n",
              "    </tr>\n",
              "  </thead>\n",
              "  <tbody>\n",
              "    <tr>\n",
              "      <th>0</th>\n",
              "      <td>иногда</td>\n",
              "      <td>ADVB</td>\n",
              "    </tr>\n",
              "    <tr>\n",
              "      <th>1</th>\n",
              "      <td>я</td>\n",
              "      <td>PRON</td>\n",
              "    </tr>\n",
              "    <tr>\n",
              "      <th>2</th>\n",
              "      <td>хочу</td>\n",
              "      <td>VERB</td>\n",
              "    </tr>\n",
              "    <tr>\n",
              "      <th>3</th>\n",
              "      <td>подумать</td>\n",
              "      <td>VERB</td>\n",
              "    </tr>\n",
              "    <tr>\n",
              "      <th>4</th>\n",
              "      <td>о</td>\n",
              "      <td>PREP</td>\n",
              "    </tr>\n",
              "    <tr>\n",
              "      <th>...</th>\n",
              "      <td>...</td>\n",
              "      <td>...</td>\n",
              "    </tr>\n",
              "    <tr>\n",
              "      <th>214</th>\n",
              "      <td>и</td>\n",
              "      <td>CONJ</td>\n",
              "    </tr>\n",
              "    <tr>\n",
              "      <th>215</th>\n",
              "      <td>содержательным</td>\n",
              "      <td>ADJF</td>\n",
              "    </tr>\n",
              "    <tr>\n",
              "      <th>216</th>\n",
              "      <td>воспоминанием</td>\n",
              "      <td>NOUN</td>\n",
              "    </tr>\n",
              "    <tr>\n",
              "      <th>217</th>\n",
              "      <td>о</td>\n",
              "      <td>PREP</td>\n",
              "    </tr>\n",
              "    <tr>\n",
              "      <th>218</th>\n",
              "      <td>прошлом</td>\n",
              "      <td>NOUN</td>\n",
              "    </tr>\n",
              "  </tbody>\n",
              "</table>\n",
              "<p>219 rows × 2 columns</p>\n",
              "</div>"
            ],
            "text/plain": [
              "               word Mystem POS\n",
              "0            иногда       ADVB\n",
              "1                 я       PRON\n",
              "2              хочу       VERB\n",
              "3          подумать       VERB\n",
              "4                 о       PREP\n",
              "..              ...        ...\n",
              "214               и       CONJ\n",
              "215  содержательным       ADJF\n",
              "216   воспоминанием       NOUN\n",
              "217               о       PREP\n",
              "218         прошлом       NOUN\n",
              "\n",
              "[219 rows x 2 columns]"
            ]
          },
          "metadata": {},
          "execution_count": 18
        }
      ]
    },
    {
      "cell_type": "markdown",
      "metadata": {
        "id": "HqbsQJeJF3bM"
      },
      "source": [
        "Попробуем найти н-граммы трех типов: прил + сущ, предлог + сущ, глагол + сущ (объект)"
      ]
    },
    {
      "cell_type": "code",
      "metadata": {
        "id": "FkvbQeXug7In"
      },
      "source": [
        "def two_gram(df, POS1, POS2):\n",
        "    ngrams = []\n",
        "    for i, pos in enumerate(df[\"Mystem POS\"]):\n",
        "        if df[\"Mystem POS\"][i] == POS1:\n",
        "            if df[\"Mystem POS\"][i+1] == POS2:\n",
        "                match = df[\"word\"][i], df[\"word\"][i+1]\n",
        "                ngrams.append(match)\n",
        "    return ngrams"
      ],
      "execution_count": 19,
      "outputs": []
    },
    {
      "cell_type": "code",
      "metadata": {
        "id": "xLdFyTu-hvMR"
      },
      "source": [
        "adjf_nouns = two_gram(df_2, \"ADJF\", \"NOUN\")\n",
        "prep_nouns = two_gram(df_2, \"PREP\", \"NOUN\")\n",
        "verb_nouns = two_gram(df_2, \"VERB\", \"NOUN\")"
      ],
      "execution_count": 20,
      "outputs": []
    },
    {
      "cell_type": "markdown",
      "metadata": {
        "id": "qAFs5Xvr53SR"
      },
      "source": [
        "Первые два типа н-грамм вышли хорошо, есть пары даже с субстантивами:"
      ]
    },
    {
      "cell_type": "code",
      "metadata": {
        "colab": {
          "base_uri": "https://localhost:8080/"
        },
        "id": "uXDUcf6eiVGe",
        "outputId": "802ccf98-80e2-4344-933e-dab050c6137e"
      },
      "source": [
        "adjf_nouns"
      ],
      "execution_count": 21,
      "outputs": [
        {
          "output_type": "execute_result",
          "data": {
            "text/plain": [
              "[('неоднозначных', 'моментах'),\n",
              " ('большей', 'части'),\n",
              " ('населённых', 'пунктов'),\n",
              " ('исходное', 'прилагательное'),\n",
              " ('полная', 'субстантивация'),\n",
              " ('тугое', 'ухо'),\n",
              " ('странный', 'звук'),\n",
              " ('полон', 'любовью'),\n",
              " ('неполная', 'субстантивация'),\n",
              " ('русский', 'народ'),\n",
              " ('военный', 'врач'),\n",
              " ('жаркое', 'лето'),\n",
              " ('горячее', 'солнце'),\n",
              " ('больные', 'пациенты'),\n",
              " ('пожарной', 'команде'),\n",
              " ('хорошим', 'пожарным'),\n",
              " ('содержательным', 'воспоминанием')]"
            ]
          },
          "metadata": {},
          "execution_count": 21
        }
      ]
    },
    {
      "cell_type": "code",
      "metadata": {
        "colab": {
          "base_uri": "https://localhost:8080/"
        },
        "id": "0bWNTLjNiX6J",
        "outputId": "497be972-c21f-453b-ba50-bf599561d428"
      },
      "source": [
        "prep_nouns"
      ],
      "execution_count": 22,
      "outputs": [
        {
          "output_type": "execute_result",
          "data": {
            "text/plain": [
              "[('в', 'плане'),\n",
              " ('про', 'субстантивацию'),\n",
              " ('в', 'результате'),\n",
              " ('в', 'существительное'),\n",
              " ('в', 'предложениях'),\n",
              " ('с', 'больными'),\n",
              " ('в', 'перевязочную'),\n",
              " ('на', 'рентген'),\n",
              " ('со', 'стороны'),\n",
              " ('с', 'сашей'),\n",
              " ('к', 'портным'),\n",
              " ('на', 'мостовой'),\n",
              " ('по', 'договору'),\n",
              " ('на', 'диване'),\n",
              " ('перед', 'телевизором'),\n",
              " ('с', 'мороженым'),\n",
              " ('о', 'прошлом')]"
            ]
          },
          "metadata": {},
          "execution_count": 22
        }
      ]
    },
    {
      "cell_type": "markdown",
      "metadata": {
        "id": "0XOvE4js6o7s"
      },
      "source": [
        "Третий тип (глагол с дополнением) получился не очень качественным. Так, не были распознаны причастия, есть пример и с неугаданным субстантивом. Впрочем, такую ситуацию можно было бы подкорректировать, используя больше данных из морф.анализа"
      ]
    },
    {
      "cell_type": "code",
      "metadata": {
        "colab": {
          "base_uri": "https://localhost:8080/"
        },
        "id": "55oTmJLjiYbb",
        "outputId": "176220eb-3f6b-4615-839d-64c4b63c00cc"
      },
      "source": [
        "verb_nouns"
      ],
      "execution_count": 23,
      "outputs": [
        {
          "output_type": "execute_result",
          "data": {
            "text/plain": [
              "[('развивающимся', 'процессом'),\n",
              " ('обозначающие', 'фамилии'),\n",
              " ('называется', 'субстантиватом'),\n",
              " ('мотивирующим', 'прилагательным'),\n",
              " ('приведем', 'примеры'),\n",
              " ('возил', 'каталки'),\n",
              " ('люблю', 'приданое'),\n",
              " ('выздоравливающие', 'люди'),\n",
              " ('выздоравливающие', 'папа')]"
            ]
          },
          "metadata": {},
          "execution_count": 23
        }
      ]
    },
    {
      "cell_type": "markdown",
      "metadata": {
        "id": "iSsSeFIfZx0L"
      },
      "source": [
        "### Часть 5"
      ]
    },
    {
      "cell_type": "markdown",
      "metadata": {
        "id": "wDNSHEV0Z2Ri"
      },
      "source": [
        "Шаблон 1: \"далеко\" + \"не\" + ADJF|DET|ADV\n",
        "\n",
        "1) *Фильм далеко не такой отличный, как о нем говорят.*\n",
        "\n",
        "2) *...сюжет далеко не нов...*\n",
        "\n",
        "Шаблон 2: \"далек\" + \"от\" \n",
        "\n",
        "3) *получился не просто далёким от шедевра, но и..*\n",
        "\n",
        "Словосочетания такого типа можно иногда встретить именно в отрицательных отзывых, когда пользователи как бы возражают положительному, более распространенному мнению. \n",
        "\n",
        "Шаблон 3, а точнее просто идея: Имена и все, что может быть PROPN в пост-тэггинге от Наташи\n",
        "\n",
        "Так, если у нас в словаре будет \"Томми Ли Джонс\", а не 3 токена по отдельности, то, во-первых, мы потенциально можем чуть-чуть сэкономить место в словаре. Во-вторых, вероятность вычислить положительный отзыв, имея в словаре \"Томми Ли Джонс\", будет выше, чем в случае с \"Томми\", т.к. например речь может идти о Томми Вайсо (no offence). "
      ]
    }
  ]
}